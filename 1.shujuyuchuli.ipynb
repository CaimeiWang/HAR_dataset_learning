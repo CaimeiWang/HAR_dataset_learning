{
 "cells": [
  {
   "cell_type": "markdown",
   "metadata": {},
   "source": [
    "# 从features.txt读取特征"
   ]
  },
  {
   "cell_type": "code",
   "execution_count": 1,
   "metadata": {
    "scrolled": false
   },
   "outputs": [
    {
     "name": "stdout",
     "output_type": "stream",
     "text": [
      "Num of Features: 561\n"
     ]
    }
   ],
   "source": [
    "import numpy as np\n",
    "import pandas as pd\n",
    "\n",
    "# get features from the file features.txt\n",
    "features = list()\n",
    "with open('UCI HAR Dataset/features.txt') as f:\n",
    "    features = [line.split()[1] for line in f.readlines()]\n",
    "print('Num of Features: {}'.format(len(features)))\n"
   ]
  },
  {
   "cell_type": "markdown",
   "metadata": {},
   "source": [
    "## 读取train数据 & 预览"
   ]
  },
  {
   "cell_type": "code",
   "execution_count": 2,
   "metadata": {
    "scrolled": true
   },
   "outputs": [
    {
     "name": "stderr",
     "output_type": "stream",
     "text": [
      "D:\\Python\\lib\\site-packages\\pandas\\io\\parsers.py:702: UserWarning: Duplicate names specified. This will raise an error in the future.\n",
      "  return _read(filepath_or_buffer, kwds)\n"
     ]
    },
    {
     "data": {
      "text/html": [
       "<div>\n",
       "<style scoped>\n",
       "    .dataframe tbody tr th:only-of-type {\n",
       "        vertical-align: middle;\n",
       "    }\n",
       "\n",
       "    .dataframe tbody tr th {\n",
       "        vertical-align: top;\n",
       "    }\n",
       "\n",
       "    .dataframe thead th {\n",
       "        text-align: right;\n",
       "    }\n",
       "</style>\n",
       "<table border=\"1\" class=\"dataframe\">\n",
       "  <thead>\n",
       "    <tr style=\"text-align: right;\">\n",
       "      <th></th>\n",
       "      <th>tBodyAcc-mean()-X</th>\n",
       "      <th>tBodyAcc-mean()-Y</th>\n",
       "      <th>tBodyAcc-mean()-Z</th>\n",
       "      <th>tBodyAcc-std()-X</th>\n",
       "      <th>tBodyAcc-std()-Y</th>\n",
       "      <th>tBodyAcc-std()-Z</th>\n",
       "      <th>tBodyAcc-mad()-X</th>\n",
       "      <th>tBodyAcc-mad()-Y</th>\n",
       "      <th>tBodyAcc-mad()-Z</th>\n",
       "      <th>tBodyAcc-max()-X</th>\n",
       "      <th>...</th>\n",
       "      <th>angle(tBodyAccMean,gravity)</th>\n",
       "      <th>angle(tBodyAccJerkMean),gravityMean)</th>\n",
       "      <th>angle(tBodyGyroMean,gravityMean)</th>\n",
       "      <th>angle(tBodyGyroJerkMean,gravityMean)</th>\n",
       "      <th>angle(X,gravityMean)</th>\n",
       "      <th>angle(Y,gravityMean)</th>\n",
       "      <th>angle(Z,gravityMean)</th>\n",
       "      <th>subject</th>\n",
       "      <th>Activity</th>\n",
       "      <th>ActivityName</th>\n",
       "    </tr>\n",
       "  </thead>\n",
       "  <tbody>\n",
       "    <tr>\n",
       "      <th>3593</th>\n",
       "      <td>0.425789</td>\n",
       "      <td>-0.003028</td>\n",
       "      <td>-0.133813</td>\n",
       "      <td>0.000249</td>\n",
       "      <td>0.075415</td>\n",
       "      <td>-0.347596</td>\n",
       "      <td>-0.052669</td>\n",
       "      <td>0.058458</td>\n",
       "      <td>-0.364065</td>\n",
       "      <td>0.002285</td>\n",
       "      <td>...</td>\n",
       "      <td>-0.601919</td>\n",
       "      <td>-0.029923</td>\n",
       "      <td>0.613688</td>\n",
       "      <td>0.681670</td>\n",
       "      <td>-0.551202</td>\n",
       "      <td>0.370543</td>\n",
       "      <td>0.164121</td>\n",
       "      <td>17</td>\n",
       "      <td>2</td>\n",
       "      <td>WALKING_UPSTAIRS</td>\n",
       "    </tr>\n",
       "    <tr>\n",
       "      <th>1164</th>\n",
       "      <td>0.277184</td>\n",
       "      <td>-0.020976</td>\n",
       "      <td>-0.103713</td>\n",
       "      <td>-0.984661</td>\n",
       "      <td>-0.920622</td>\n",
       "      <td>-0.959196</td>\n",
       "      <td>-0.986908</td>\n",
       "      <td>-0.918233</td>\n",
       "      <td>-0.957391</td>\n",
       "      <td>-0.918925</td>\n",
       "      <td>...</td>\n",
       "      <td>-0.047524</td>\n",
       "      <td>0.132101</td>\n",
       "      <td>-0.606646</td>\n",
       "      <td>-0.050803</td>\n",
       "      <td>-0.835770</td>\n",
       "      <td>0.210499</td>\n",
       "      <td>0.034860</td>\n",
       "      <td>6</td>\n",
       "      <td>5</td>\n",
       "      <td>STANDING</td>\n",
       "    </tr>\n",
       "    <tr>\n",
       "      <th>2380</th>\n",
       "      <td>0.281960</td>\n",
       "      <td>-0.029525</td>\n",
       "      <td>0.002162</td>\n",
       "      <td>-0.300699</td>\n",
       "      <td>0.122331</td>\n",
       "      <td>0.611601</td>\n",
       "      <td>-0.336616</td>\n",
       "      <td>0.117050</td>\n",
       "      <td>0.596454</td>\n",
       "      <td>-0.124361</td>\n",
       "      <td>...</td>\n",
       "      <td>0.258418</td>\n",
       "      <td>-0.867018</td>\n",
       "      <td>0.973123</td>\n",
       "      <td>-0.397219</td>\n",
       "      <td>-0.404084</td>\n",
       "      <td>0.314413</td>\n",
       "      <td>0.369649</td>\n",
       "      <td>14</td>\n",
       "      <td>2</td>\n",
       "      <td>WALKING_UPSTAIRS</td>\n",
       "    </tr>\n",
       "    <tr>\n",
       "      <th>6825</th>\n",
       "      <td>0.276424</td>\n",
       "      <td>-0.020018</td>\n",
       "      <td>-0.108249</td>\n",
       "      <td>-0.997327</td>\n",
       "      <td>-0.985547</td>\n",
       "      <td>-0.992947</td>\n",
       "      <td>-0.997994</td>\n",
       "      <td>-0.985305</td>\n",
       "      <td>-0.991706</td>\n",
       "      <td>-0.942944</td>\n",
       "      <td>...</td>\n",
       "      <td>0.045821</td>\n",
       "      <td>-0.810671</td>\n",
       "      <td>0.518529</td>\n",
       "      <td>-0.572708</td>\n",
       "      <td>-0.906661</td>\n",
       "      <td>0.162460</td>\n",
       "      <td>0.024293</td>\n",
       "      <td>29</td>\n",
       "      <td>5</td>\n",
       "      <td>STANDING</td>\n",
       "    </tr>\n",
       "    <tr>\n",
       "      <th>5325</th>\n",
       "      <td>0.270139</td>\n",
       "      <td>0.030767</td>\n",
       "      <td>-0.077899</td>\n",
       "      <td>-0.995295</td>\n",
       "      <td>-0.864718</td>\n",
       "      <td>-0.930125</td>\n",
       "      <td>-0.996109</td>\n",
       "      <td>-0.844888</td>\n",
       "      <td>-0.931546</td>\n",
       "      <td>-0.941077</td>\n",
       "      <td>...</td>\n",
       "      <td>0.014062</td>\n",
       "      <td>-0.027881</td>\n",
       "      <td>0.364114</td>\n",
       "      <td>-0.247777</td>\n",
       "      <td>-0.943771</td>\n",
       "      <td>0.057559</td>\n",
       "      <td>0.031309</td>\n",
       "      <td>25</td>\n",
       "      <td>4</td>\n",
       "      <td>SITTING</td>\n",
       "    </tr>\n",
       "  </tbody>\n",
       "</table>\n",
       "<p>5 rows × 564 columns</p>\n",
       "</div>"
      ],
      "text/plain": [
       "      tBodyAcc-mean()-X  tBodyAcc-mean()-Y  tBodyAcc-mean()-Z  \\\n",
       "3593           0.425789          -0.003028          -0.133813   \n",
       "1164           0.277184          -0.020976          -0.103713   \n",
       "2380           0.281960          -0.029525           0.002162   \n",
       "6825           0.276424          -0.020018          -0.108249   \n",
       "5325           0.270139           0.030767          -0.077899   \n",
       "\n",
       "      tBodyAcc-std()-X  tBodyAcc-std()-Y  tBodyAcc-std()-Z  tBodyAcc-mad()-X  \\\n",
       "3593          0.000249          0.075415         -0.347596         -0.052669   \n",
       "1164         -0.984661         -0.920622         -0.959196         -0.986908   \n",
       "2380         -0.300699          0.122331          0.611601         -0.336616   \n",
       "6825         -0.997327         -0.985547         -0.992947         -0.997994   \n",
       "5325         -0.995295         -0.864718         -0.930125         -0.996109   \n",
       "\n",
       "      tBodyAcc-mad()-Y  tBodyAcc-mad()-Z  tBodyAcc-max()-X  ...  \\\n",
       "3593          0.058458         -0.364065          0.002285  ...   \n",
       "1164         -0.918233         -0.957391         -0.918925  ...   \n",
       "2380          0.117050          0.596454         -0.124361  ...   \n",
       "6825         -0.985305         -0.991706         -0.942944  ...   \n",
       "5325         -0.844888         -0.931546         -0.941077  ...   \n",
       "\n",
       "      angle(tBodyAccMean,gravity)  angle(tBodyAccJerkMean),gravityMean)  \\\n",
       "3593                    -0.601919                             -0.029923   \n",
       "1164                    -0.047524                              0.132101   \n",
       "2380                     0.258418                             -0.867018   \n",
       "6825                     0.045821                             -0.810671   \n",
       "5325                     0.014062                             -0.027881   \n",
       "\n",
       "      angle(tBodyGyroMean,gravityMean)  angle(tBodyGyroJerkMean,gravityMean)  \\\n",
       "3593                          0.613688                              0.681670   \n",
       "1164                         -0.606646                             -0.050803   \n",
       "2380                          0.973123                             -0.397219   \n",
       "6825                          0.518529                             -0.572708   \n",
       "5325                          0.364114                             -0.247777   \n",
       "\n",
       "      angle(X,gravityMean)  angle(Y,gravityMean)  angle(Z,gravityMean)  \\\n",
       "3593             -0.551202              0.370543              0.164121   \n",
       "1164             -0.835770              0.210499              0.034860   \n",
       "2380             -0.404084              0.314413              0.369649   \n",
       "6825             -0.906661              0.162460              0.024293   \n",
       "5325             -0.943771              0.057559              0.031309   \n",
       "\n",
       "      subject  Activity      ActivityName  \n",
       "3593       17         2  WALKING_UPSTAIRS  \n",
       "1164        6         5          STANDING  \n",
       "2380       14         2  WALKING_UPSTAIRS  \n",
       "6825       29         5          STANDING  \n",
       "5325       25         4           SITTING  \n",
       "\n",
       "[5 rows x 564 columns]"
      ]
     },
     "execution_count": 2,
     "metadata": {},
     "output_type": "execute_result"
    }
   ],
   "source": [
    "# get the data from txt files to pandas dataffame\n",
    "# pd.read_csv() - \"names\" is a LIST which serves as header for the columns\n",
    "X_train = pd.read_csv('UCI HAR dataset/train/X_train.txt', delim_whitespace=True, header=None, names=features)\n",
    "\n",
    "# add subject column to the dataframe\n",
    "X_train['subject'] = pd.read_csv('UCI HAR dataset/train/subject_train.txt', header=None, squeeze=True)\n",
    "\n",
    "y_train = pd.read_csv('UCI HAR dataset/train/y_train.txt', names=['Activity'], squeeze=True)\n",
    "y_train_labels = y_train.map({1: 'WALKING', 2:'WALKING_UPSTAIRS',3:'WALKING_DOWNSTAIRS',\\\n",
    "                       4:'SITTING', 5:'STANDING',6:'LAYING'})\n",
    "\n",
    "# put all columns in a single dataframe\n",
    "train = X_train\n",
    "train['Activity'] = y_train\n",
    "train['ActivityName'] = y_train_labels\n",
    "train.sample(5)"
   ]
  },
  {
   "cell_type": "markdown",
   "metadata": {},
   "source": [
    "## 读取test数据 & 预览"
   ]
  },
  {
   "cell_type": "code",
   "execution_count": 3,
   "metadata": {},
   "outputs": [
    {
     "data": {
      "text/html": [
       "<div>\n",
       "<style scoped>\n",
       "    .dataframe tbody tr th:only-of-type {\n",
       "        vertical-align: middle;\n",
       "    }\n",
       "\n",
       "    .dataframe tbody tr th {\n",
       "        vertical-align: top;\n",
       "    }\n",
       "\n",
       "    .dataframe thead th {\n",
       "        text-align: right;\n",
       "    }\n",
       "</style>\n",
       "<table border=\"1\" class=\"dataframe\">\n",
       "  <thead>\n",
       "    <tr style=\"text-align: right;\">\n",
       "      <th></th>\n",
       "      <th>tBodyAcc-mean()-X</th>\n",
       "      <th>tBodyAcc-mean()-Y</th>\n",
       "      <th>tBodyAcc-mean()-Z</th>\n",
       "      <th>tBodyAcc-std()-X</th>\n",
       "      <th>tBodyAcc-std()-Y</th>\n",
       "      <th>tBodyAcc-std()-Z</th>\n",
       "      <th>tBodyAcc-mad()-X</th>\n",
       "      <th>tBodyAcc-mad()-Y</th>\n",
       "      <th>tBodyAcc-mad()-Z</th>\n",
       "      <th>tBodyAcc-max()-X</th>\n",
       "      <th>...</th>\n",
       "      <th>angle(tBodyAccMean,gravity)</th>\n",
       "      <th>angle(tBodyAccJerkMean),gravityMean)</th>\n",
       "      <th>angle(tBodyGyroMean,gravityMean)</th>\n",
       "      <th>angle(tBodyGyroJerkMean,gravityMean)</th>\n",
       "      <th>angle(X,gravityMean)</th>\n",
       "      <th>angle(Y,gravityMean)</th>\n",
       "      <th>angle(Z,gravityMean)</th>\n",
       "      <th>subject</th>\n",
       "      <th>Activity</th>\n",
       "      <th>ActivityName</th>\n",
       "    </tr>\n",
       "  </thead>\n",
       "  <tbody>\n",
       "    <tr>\n",
       "      <th>1161</th>\n",
       "      <td>0.185820</td>\n",
       "      <td>-0.020255</td>\n",
       "      <td>-0.102457</td>\n",
       "      <td>0.314550</td>\n",
       "      <td>-0.290497</td>\n",
       "      <td>-0.174607</td>\n",
       "      <td>0.218373</td>\n",
       "      <td>-0.315738</td>\n",
       "      <td>-0.207341</td>\n",
       "      <td>0.635052</td>\n",
       "      <td>...</td>\n",
       "      <td>0.892676</td>\n",
       "      <td>0.532599</td>\n",
       "      <td>-0.052193</td>\n",
       "      <td>-0.415475</td>\n",
       "      <td>-0.907519</td>\n",
       "      <td>0.065349</td>\n",
       "      <td>-0.042585</td>\n",
       "      <td>10</td>\n",
       "      <td>3</td>\n",
       "      <td>WALKING_DOWNSTAIRS</td>\n",
       "    </tr>\n",
       "    <tr>\n",
       "      <th>207</th>\n",
       "      <td>0.288927</td>\n",
       "      <td>-0.016271</td>\n",
       "      <td>-0.111948</td>\n",
       "      <td>-0.994213</td>\n",
       "      <td>-0.987161</td>\n",
       "      <td>-0.990619</td>\n",
       "      <td>-0.994966</td>\n",
       "      <td>-0.988089</td>\n",
       "      <td>-0.992019</td>\n",
       "      <td>-0.936195</td>\n",
       "      <td>...</td>\n",
       "      <td>0.111094</td>\n",
       "      <td>-0.514280</td>\n",
       "      <td>0.539674</td>\n",
       "      <td>-0.392323</td>\n",
       "      <td>0.583564</td>\n",
       "      <td>-0.497991</td>\n",
       "      <td>-0.509191</td>\n",
       "      <td>2</td>\n",
       "      <td>6</td>\n",
       "      <td>LAYING</td>\n",
       "    </tr>\n",
       "    <tr>\n",
       "      <th>374</th>\n",
       "      <td>0.283695</td>\n",
       "      <td>-0.017367</td>\n",
       "      <td>-0.113113</td>\n",
       "      <td>-0.987410</td>\n",
       "      <td>-0.990953</td>\n",
       "      <td>-0.976705</td>\n",
       "      <td>-0.988193</td>\n",
       "      <td>-0.990285</td>\n",
       "      <td>-0.979274</td>\n",
       "      <td>-0.930215</td>\n",
       "      <td>...</td>\n",
       "      <td>0.253794</td>\n",
       "      <td>0.843275</td>\n",
       "      <td>0.074422</td>\n",
       "      <td>-0.082865</td>\n",
       "      <td>0.567953</td>\n",
       "      <td>-0.690850</td>\n",
       "      <td>-0.308228</td>\n",
       "      <td>4</td>\n",
       "      <td>6</td>\n",
       "      <td>LAYING</td>\n",
       "    </tr>\n",
       "    <tr>\n",
       "      <th>2542</th>\n",
       "      <td>0.242932</td>\n",
       "      <td>-0.017346</td>\n",
       "      <td>-0.160880</td>\n",
       "      <td>-0.086651</td>\n",
       "      <td>0.348458</td>\n",
       "      <td>-0.224892</td>\n",
       "      <td>-0.166818</td>\n",
       "      <td>0.421767</td>\n",
       "      <td>-0.235293</td>\n",
       "      <td>0.216959</td>\n",
       "      <td>...</td>\n",
       "      <td>0.229744</td>\n",
       "      <td>-0.825444</td>\n",
       "      <td>-0.961149</td>\n",
       "      <td>0.006384</td>\n",
       "      <td>-0.545412</td>\n",
       "      <td>0.412123</td>\n",
       "      <td>0.016589</td>\n",
       "      <td>20</td>\n",
       "      <td>2</td>\n",
       "      <td>WALKING_UPSTAIRS</td>\n",
       "    </tr>\n",
       "    <tr>\n",
       "      <th>1461</th>\n",
       "      <td>0.361385</td>\n",
       "      <td>-0.017114</td>\n",
       "      <td>-0.095239</td>\n",
       "      <td>-0.048903</td>\n",
       "      <td>-0.091806</td>\n",
       "      <td>-0.554487</td>\n",
       "      <td>-0.113523</td>\n",
       "      <td>-0.114862</td>\n",
       "      <td>-0.557210</td>\n",
       "      <td>0.375966</td>\n",
       "      <td>...</td>\n",
       "      <td>-0.811638</td>\n",
       "      <td>-0.303600</td>\n",
       "      <td>0.200862</td>\n",
       "      <td>-0.897583</td>\n",
       "      <td>-0.877475</td>\n",
       "      <td>0.181068</td>\n",
       "      <td>0.036158</td>\n",
       "      <td>12</td>\n",
       "      <td>1</td>\n",
       "      <td>WALKING</td>\n",
       "    </tr>\n",
       "  </tbody>\n",
       "</table>\n",
       "<p>5 rows × 564 columns</p>\n",
       "</div>"
      ],
      "text/plain": [
       "      tBodyAcc-mean()-X  tBodyAcc-mean()-Y  tBodyAcc-mean()-Z  \\\n",
       "1161           0.185820          -0.020255          -0.102457   \n",
       "207            0.288927          -0.016271          -0.111948   \n",
       "374            0.283695          -0.017367          -0.113113   \n",
       "2542           0.242932          -0.017346          -0.160880   \n",
       "1461           0.361385          -0.017114          -0.095239   \n",
       "\n",
       "      tBodyAcc-std()-X  tBodyAcc-std()-Y  tBodyAcc-std()-Z  tBodyAcc-mad()-X  \\\n",
       "1161          0.314550         -0.290497         -0.174607          0.218373   \n",
       "207          -0.994213         -0.987161         -0.990619         -0.994966   \n",
       "374          -0.987410         -0.990953         -0.976705         -0.988193   \n",
       "2542         -0.086651          0.348458         -0.224892         -0.166818   \n",
       "1461         -0.048903         -0.091806         -0.554487         -0.113523   \n",
       "\n",
       "      tBodyAcc-mad()-Y  tBodyAcc-mad()-Z  tBodyAcc-max()-X  ...  \\\n",
       "1161         -0.315738         -0.207341          0.635052  ...   \n",
       "207          -0.988089         -0.992019         -0.936195  ...   \n",
       "374          -0.990285         -0.979274         -0.930215  ...   \n",
       "2542          0.421767         -0.235293          0.216959  ...   \n",
       "1461         -0.114862         -0.557210          0.375966  ...   \n",
       "\n",
       "      angle(tBodyAccMean,gravity)  angle(tBodyAccJerkMean),gravityMean)  \\\n",
       "1161                     0.892676                              0.532599   \n",
       "207                      0.111094                             -0.514280   \n",
       "374                      0.253794                              0.843275   \n",
       "2542                     0.229744                             -0.825444   \n",
       "1461                    -0.811638                             -0.303600   \n",
       "\n",
       "      angle(tBodyGyroMean,gravityMean)  angle(tBodyGyroJerkMean,gravityMean)  \\\n",
       "1161                         -0.052193                             -0.415475   \n",
       "207                           0.539674                             -0.392323   \n",
       "374                           0.074422                             -0.082865   \n",
       "2542                         -0.961149                              0.006384   \n",
       "1461                          0.200862                             -0.897583   \n",
       "\n",
       "      angle(X,gravityMean)  angle(Y,gravityMean)  angle(Z,gravityMean)  \\\n",
       "1161             -0.907519              0.065349             -0.042585   \n",
       "207               0.583564             -0.497991             -0.509191   \n",
       "374               0.567953             -0.690850             -0.308228   \n",
       "2542             -0.545412              0.412123              0.016589   \n",
       "1461             -0.877475              0.181068              0.036158   \n",
       "\n",
       "      subject  Activity        ActivityName  \n",
       "1161       10         3  WALKING_DOWNSTAIRS  \n",
       "207         2         6              LAYING  \n",
       "374         4         6              LAYING  \n",
       "2542       20         2    WALKING_UPSTAIRS  \n",
       "1461       12         1             WALKING  \n",
       "\n",
       "[5 rows x 564 columns]"
      ]
     },
     "execution_count": 3,
     "metadata": {},
     "output_type": "execute_result"
    }
   ],
   "source": [
    "# get the data from txt files to pandas dataffame\n",
    "X_test = pd.read_csv('UCI HAR dataset/test/X_test.txt', delim_whitespace=True, header=None, names=features)\n",
    "\n",
    "# add subject column to the dataframe\n",
    "X_test['subject'] = pd.read_csv('UCI HAR dataset/test/subject_test.txt', header=None, squeeze=True)\n",
    "\n",
    "# get y labels from the txt file\n",
    "y_test = pd.read_csv('UCI HAR dataset/test/y_test.txt', names=['Activity'], squeeze=True)\n",
    "y_test_labels = y_test.map({1: 'WALKING', 2:'WALKING_UPSTAIRS',3:'WALKING_DOWNSTAIRS',\\\n",
    "                       4:'SITTING', 5:'STANDING',6:'LAYING'})\n",
    "\n",
    "\n",
    "# put all columns in a single dataframe\n",
    "test = X_test\n",
    "test['Activity'] = y_test\n",
    "test['ActivityName'] = y_test_labels\n",
    "test.sample(5)"
   ]
  },
  {
   "cell_type": "markdown",
   "metadata": {},
   "source": [
    " "
   ]
  },
  {
   "cell_type": "markdown",
   "metadata": {
    "collapsed": true
   },
   "source": [
    "# 数据清洗"
   ]
  },
  {
   "cell_type": "markdown",
   "metadata": {},
   "source": [
    "## 唯一性检验"
   ]
  },
  {
   "cell_type": "code",
   "execution_count": 4,
   "metadata": {
    "scrolled": true
   },
   "outputs": [
    {
     "name": "stdout",
     "output_type": "stream",
     "text": [
      "No of duplicates in train: 0\n",
      "No of duplicates in test : 0\n"
     ]
    }
   ],
   "source": [
    "print('No of duplicates in train: {}'.format(sum(train.duplicated())))\n",
    "print('No of duplicates in test : {}'.format(sum(test.duplicated())))"
   ]
  },
  {
   "cell_type": "markdown",
   "metadata": {},
   "source": [
    " "
   ]
  },
  {
   "cell_type": "markdown",
   "metadata": {},
   "source": [
    "## 连续性检验"
   ]
  },
  {
   "cell_type": "code",
   "execution_count": 5,
   "metadata": {
    "scrolled": true
   },
   "outputs": [
    {
     "name": "stdout",
     "output_type": "stream",
     "text": [
      "We have 0 NaN/Null values in train\n",
      "We have 0 NaN/Null values in test\n"
     ]
    }
   ],
   "source": [
    "print('We have {} NaN/Null values in train'.format(train.isnull().values.sum()))\n",
    "print('We have {} NaN/Null values in test'.format(test.isnull().values.sum()))"
   ]
  },
  {
   "cell_type": "markdown",
   "metadata": {},
   "source": [
    "## 平衡性检验"
   ]
  },
  {
   "cell_type": "code",
   "execution_count": 6,
   "metadata": {},
   "outputs": [],
   "source": [
    "import matplotlib.pyplot as plt\n",
    "import seaborn as sns\n",
    "\n",
    "sns.set_style('whitegrid')\n",
    "plt.rcParams['font.family'] = 'Dejavu Sans'"
   ]
  },
  {
   "cell_type": "code",
   "execution_count": 7,
   "metadata": {
    "scrolled": false
   },
   "outputs": [
    {
     "data": {
      "image/png": "[encoded data removed]",
      "text/plain": [
       "<Figure size 1152x576 with 1 Axes>"
      ]
     },
     "metadata": {},
     "output_type": "display_data"
    }
   ],
   "source": [
    "plt.figure(figsize=(16,8))\n",
    "plt.title('Data provided by each user', fontsize=20)\n",
    "sns.countplot(x='subject',hue='ActivityName', data = train)\n",
    "plt.show()\n"
   ]
  },
  {
   "cell_type": "code",
   "execution_count": 8,
   "metadata": {
    "scrolled": false
   },
   "outputs": [
    {
     "data": {
      "image/png": "[encoded data removed]",
      "text/plain": [
       "<Figure size 432x288 with 1 Axes>"
      ]
     },
     "metadata": {},
     "output_type": "display_data"
    }
   ],
   "source": [
    "plt.title('Num of Datapoints per Activity', fontsize=15)\n",
    "sns.countplot(train.ActivityName)\n",
    "plt.xticks(rotation=90)\n",
    "plt.show()"
   ]
  },
  {
   "cell_type": "markdown",
   "metadata": {},
   "source": [
    "### Observation：由上图，所有用户提供的数据量基本相等"
   ]
  },
  {
   "cell_type": "markdown",
   "metadata": {},
   "source": [
    "## 修改特征命名格式"
   ]
  },
  {
   "cell_type": "code",
   "execution_count": 9,
   "metadata": {
    "scrolled": true
   },
   "outputs": [
    {
     "data": {
      "text/plain": [
       "Index(['tBodyAccmeanX', 'tBodyAccmeanY', 'tBodyAccmeanZ', 'tBodyAccstdX',\n",
       "       'tBodyAccstdY', 'tBodyAccstdZ', 'tBodyAccmadX', 'tBodyAccmadY',\n",
       "       'tBodyAccmadZ', 'tBodyAccmaxX',\n",
       "       ...\n",
       "       'angletBodyAccMeangravity', 'angletBodyAccJerkMeangravityMean',\n",
       "       'angletBodyGyroMeangravityMean', 'angletBodyGyroJerkMeangravityMean',\n",
       "       'angleXgravityMean', 'angleYgravityMean', 'angleZgravityMean',\n",
       "       'subject', 'Activity', 'ActivityName'],\n",
       "      dtype='object', length=564)"
      ]
     },
     "execution_count": 9,
     "metadata": {},
     "output_type": "execute_result"
    }
   ],
   "source": [
    "columns = train.columns\n",
    "\n",
    "# Removing '()' from column names\n",
    "columns = columns.str.replace('[()]','')\n",
    "columns = columns.str.replace('[-]', '')\n",
    "columns = columns.str.replace('[,]','')\n",
    "\n",
    "train.columns = columns\n",
    "test.columns = columns\n",
    "\n",
    "test.columns"
   ]
  },
  {
   "cell_type": "markdown",
   "metadata": {},
   "source": [
    "## 数据另存为 .csv"
   ]
  },
  {
   "cell_type": "code",
   "execution_count": 10,
   "metadata": {},
   "outputs": [],
   "source": [
    "train.to_csv('UCI HAR Dataset/csv files/train.csv', index=False)\n",
    "test.to_csv('UCI HAR Dataset/csv files/test.csv', index=False)"
   ]
  },
  {
   "cell_type": "markdown",
   "metadata": {},
   "source": [
    " "
   ]
  },
  {
   "cell_type": "markdown",
   "metadata": {},
   "source": [
    " "
   ]
  }
 ],
 "metadata": {
  "kernelspec": {
   "display_name": "Python 3",
   "language": "python",
   "name": "python3"
  },
  "language_info": {
   "codemirror_mode": {
    "name": "ipython",
    "version": 3
   },
   "file_extension": ".py",
   "mimetype": "text/x-python",
   "name": "python",
   "nbconvert_exporter": "python",
   "pygments_lexer": "ipython3",
   "version": "3.7.6"
  }
 },
 "nbformat": 4,
 "nbformat_minor": 2
}
